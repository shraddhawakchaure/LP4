{
 "cells": [
  {
   "cell_type": "markdown",
   "metadata": {
    "id": "i_GcJlVrDgBk"
   },
   "source": [
    "## Assignment 5\n",
    "    1. Name: Shraddha Wakchaure\n",
    "    2. Batch: S-10\n",
    "    3. Roll No.: 43278\n",
    "    \n",
    "   ### Problem Statement :\n",
    "    Implement the Continuous Bag of Words (CBOW) Model\n"
   ]
  },
  {
   "cell_type": "markdown",
   "metadata": {},
   "source": [
    "#### Importing libraries"
   ]
  },
  {
   "cell_type": "code",
   "execution_count": 1,
   "metadata": {
    "id": "V51q50EbF-T9"
   },
   "outputs": [],
   "source": [
    "from keras.preprocessing import text\n",
    "from keras.utils import np_utils\n",
    "from keras.preprocessing import sequence\n",
    "from keras_preprocessing.sequence import pad_sequences\n",
    "import numpy as np\n",
    "import pandas as pd"
   ]
  },
  {
   "cell_type": "markdown",
   "metadata": {},
   "source": [
    "#### Taking random sentences as data"
   ]
  },
  {
   "cell_type": "code",
   "execution_count": 2,
   "metadata": {
    "id": "wBUwYdBJElVz"
   },
   "outputs": [],
   "source": [
    "data = \"\"\"Deep learning (also known as deep structured learning) is part of a broader family of machine learning methods based on artificial neural networks with representation learning. Learning can be supervised, semi-supervised or unsupervised. \n",
    "Deep-learning architectures such as deep neural networks, deep belief networks, deep reinforcement learning, recurrent neural networks, convolutional neural networks and Transformers have been applied to fields including computer vision, speech recognition, natural language processing, machine translation, bioinformatics, drug design, medical image analysis, climate science, material inspection and board game programs, where they have produced results comparable to and in some cases surpassing human expert performance.\n",
    "\"\"\"\n",
    "dl_data = data.split()"
   ]
  },
  {
   "cell_type": "markdown",
   "metadata": {},
   "source": [
    "#### a. Data preparation\n",
    "#### Tokenization\n"
   ]
  },
  {
   "cell_type": "code",
   "execution_count": 3,
   "metadata": {
    "colab": {
     "base_uri": "https://localhost:8080/"
    },
    "id": "celNk9LmEvm8",
    "outputId": "4e2143b6-92dc-452f-f468-7c9e6238e287"
   },
   "outputs": [
    {
     "name": "stdout",
     "output_type": "stream",
     "text": [
      "Vocabulary Size: 75\n",
      "Vocabulary Sample: [('learning', 1), ('deep', 2), ('networks', 3), ('neural', 4), ('and', 5), ('as', 6), ('of', 7), ('machine', 8), ('supervised', 9), ('have', 10)]\n"
     ]
    }
   ],
   "source": [
    "tokenizer = text.Tokenizer()\n",
    "tokenizer.fit_on_texts(dl_data)\n",
    "word2id = tokenizer.word_index\n",
    "\n",
    "word2id['PAD'] = 0\n",
    "id2word = {v:k for k, v in word2id.items()}\n",
    "wids = [[word2id[w] for w in text.text_to_word_sequence(doc)] for doc in dl_data]\n",
    "\n",
    "vocab_size = len(word2id)\n",
    "embed_size = 100\n",
    "window_size = 2 \n",
    "\n",
    "print('Vocabulary Size:', vocab_size)\n",
    "print('Vocabulary Sample:', list(word2id.items())[:10])"
   ]
  },
  {
   "cell_type": "markdown",
   "metadata": {},
   "source": [
    "#### b. Generate training data\n",
    "#### Generating (context word, target/label word) pairs"
   ]
  },
  {
   "cell_type": "code",
   "execution_count": 4,
   "metadata": {
    "id": "AAxNYDanInQC"
   },
   "outputs": [],
   "source": [
    "def generate_context_word_pairs(corpus, window_size, vocab_size):\n",
    "    context_length = window_size*2\n",
    "    for words in corpus:\n",
    "        sentence_length = len(words)\n",
    "        for index, word in enumerate(words):\n",
    "            context_words = []\n",
    "            label_word   = []            \n",
    "            start = index - window_size\n",
    "            end = index + window_size + 1\n",
    "            \n",
    "            context_words.append([words[i] \n",
    "                                 for i in range(start, end) \n",
    "                                 if 0 <= i < sentence_length \n",
    "                                 and i != index])\n",
    "            label_word.append(word)\n",
    "\n",
    "            x = pad_sequences(context_words, maxlen=context_length)\n",
    "            y = np_utils.to_categorical(label_word, vocab_size)\n",
    "            yield (x, y)\n",
    "            \n",
    "i = 0\n",
    "for x, y in generate_context_word_pairs(corpus=wids, window_size=window_size, vocab_size=vocab_size):\n",
    "    if 0 not in x[0]:\n",
    "        print('Context (X):', [id2word[w] for w in x[0]], '-> Target (Y):', id2word[np.argwhere(y[0])[0][0]])\n",
    "    \n",
    "        if i == 10:\n",
    "            break\n",
    "        i += 1"
   ]
  },
  {
   "cell_type": "markdown",
   "metadata": {},
   "source": [
    "#### c. Train model\n",
    "#### Model building"
   ]
  },
  {
   "cell_type": "code",
   "execution_count": 5,
   "metadata": {
    "colab": {
     "base_uri": "https://localhost:8080/"
    },
    "id": "Rb5dNmoZKZBv",
    "outputId": "b859c07e-6989-420d-b169-8aa0b93ff367"
   },
   "outputs": [
    {
     "name": "stdout",
     "output_type": "stream",
     "text": [
      "Model: \"sequential\"\n",
      "_________________________________________________________________\n",
      " Layer (type)                Output Shape              Param #   \n",
      "=================================================================\n",
      " embedding (Embedding)       (None, 4, 100)            7500      \n",
      "                                                                 \n",
      " lambda (Lambda)             (None, 100)               0         \n",
      "                                                                 \n",
      " dense (Dense)               (None, 75)                7575      \n",
      "                                                                 \n",
      "=================================================================\n",
      "Total params: 15,075\n",
      "Trainable params: 15,075\n",
      "Non-trainable params: 0\n",
      "_________________________________________________________________\n",
      "None\n"
     ]
    }
   ],
   "source": [
    "import keras.backend as K\n",
    "from keras.models import Sequential\n",
    "from keras.layers import Dense, Embedding, Lambda\n",
    "\n",
    "cbow = Sequential()\n",
    "cbow.add(Embedding(input_dim=vocab_size, output_dim=embed_size, input_length=window_size*2))\n",
    "cbow.add(Lambda(lambda x: K.mean(x, axis=1), output_shape=(embed_size,)))\n",
    "cbow.add(Dense(vocab_size, activation='softmax'))\n",
    "cbow.compile(loss='categorical_crossentropy', optimizer='rmsprop')\n",
    "\n",
    "print(cbow.summary())\n",
    "\n",
    "# from IPython.display import SVG\n",
    "# from keras.utils.vis_utils import model_to_dot\n",
    "\n",
    "# SVG(model_to_dot(cbow, show_shapes=True, show_layer_names=False, rankdir='TB').create(prog='dot', format='svg'))"
   ]
  },
  {
   "cell_type": "code",
   "execution_count": 6,
   "metadata": {
    "colab": {
     "base_uri": "https://localhost:8080/"
    },
    "id": "xs12C3MDK1q4",
    "outputId": "fe8783b3-0ee1-4286-be40-6713afa14f9c"
   },
   "outputs": [
    {
     "name": "stdout",
     "output_type": "stream",
     "text": [
      "Epoch: 1 \tLoss: 433.61818504333496\n",
      "\n",
      "Epoch: 2 \tLoss: 428.8695614337921\n",
      "\n",
      "Epoch: 3 \tLoss: 425.2637906074524\n",
      "\n",
      "Epoch: 4 \tLoss: 421.93233609199524\n",
      "\n",
      "Epoch: 5 \tLoss: 419.51635098457336\n",
      "\n"
     ]
    }
   ],
   "source": [
    "for epoch in range(1, 6):\n",
    "    loss = 0.\n",
    "    i = 0\n",
    "    for x, y in generate_context_word_pairs(corpus=wids, window_size=window_size, vocab_size=vocab_size):\n",
    "        i += 1\n",
    "        loss += cbow.train_on_batch(x, y)\n",
    "        if i % 100000 == 0:\n",
    "            print('Processed {} (context, word) pairs'.format(i))\n",
    "\n",
    "    print('Epoch:', epoch, '\\tLoss:', loss)\n",
    "    print()"
   ]
  },
  {
   "cell_type": "code",
   "execution_count": 7,
   "metadata": {
    "colab": {
     "base_uri": "https://localhost:8080/",
     "height": 253
    },
    "id": "TZ3_QGKVK6Tj",
    "outputId": "cd9d167a-85a3-4cc9-eccb-faf997526122"
   },
   "outputs": [
    {
     "name": "stdout",
     "output_type": "stream",
     "text": [
      "(74, 100)\n"
     ]
    },
    {
     "data": {
      "text/html": [
       "<div>\n",
       "<style scoped>\n",
       "    .dataframe tbody tr th:only-of-type {\n",
       "        vertical-align: middle;\n",
       "    }\n",
       "\n",
       "    .dataframe tbody tr th {\n",
       "        vertical-align: top;\n",
       "    }\n",
       "\n",
       "    .dataframe thead th {\n",
       "        text-align: right;\n",
       "    }\n",
       "</style>\n",
       "<table border=\"1\" class=\"dataframe\">\n",
       "  <thead>\n",
       "    <tr style=\"text-align: right;\">\n",
       "      <th></th>\n",
       "      <th>0</th>\n",
       "      <th>1</th>\n",
       "      <th>2</th>\n",
       "      <th>3</th>\n",
       "      <th>4</th>\n",
       "      <th>5</th>\n",
       "      <th>6</th>\n",
       "      <th>7</th>\n",
       "      <th>8</th>\n",
       "      <th>9</th>\n",
       "      <th>...</th>\n",
       "      <th>90</th>\n",
       "      <th>91</th>\n",
       "      <th>92</th>\n",
       "      <th>93</th>\n",
       "      <th>94</th>\n",
       "      <th>95</th>\n",
       "      <th>96</th>\n",
       "      <th>97</th>\n",
       "      <th>98</th>\n",
       "      <th>99</th>\n",
       "    </tr>\n",
       "  </thead>\n",
       "  <tbody>\n",
       "    <tr>\n",
       "      <th>deep</th>\n",
       "      <td>-0.034130</td>\n",
       "      <td>0.024219</td>\n",
       "      <td>0.032866</td>\n",
       "      <td>0.053057</td>\n",
       "      <td>-0.015359</td>\n",
       "      <td>0.024081</td>\n",
       "      <td>-0.027761</td>\n",
       "      <td>0.015272</td>\n",
       "      <td>0.029367</td>\n",
       "      <td>-0.007073</td>\n",
       "      <td>...</td>\n",
       "      <td>-0.040299</td>\n",
       "      <td>-0.061614</td>\n",
       "      <td>-0.007193</td>\n",
       "      <td>0.054346</td>\n",
       "      <td>-0.007222</td>\n",
       "      <td>-0.039540</td>\n",
       "      <td>0.034759</td>\n",
       "      <td>0.029909</td>\n",
       "      <td>-0.034194</td>\n",
       "      <td>0.061596</td>\n",
       "    </tr>\n",
       "    <tr>\n",
       "      <th>networks</th>\n",
       "      <td>-0.015954</td>\n",
       "      <td>-0.040530</td>\n",
       "      <td>0.016333</td>\n",
       "      <td>0.065731</td>\n",
       "      <td>-0.064257</td>\n",
       "      <td>-0.008575</td>\n",
       "      <td>-0.043316</td>\n",
       "      <td>0.004140</td>\n",
       "      <td>0.001915</td>\n",
       "      <td>-0.045863</td>\n",
       "      <td>...</td>\n",
       "      <td>-0.028814</td>\n",
       "      <td>0.002317</td>\n",
       "      <td>0.060899</td>\n",
       "      <td>-0.007910</td>\n",
       "      <td>-0.025847</td>\n",
       "      <td>0.027496</td>\n",
       "      <td>-0.022442</td>\n",
       "      <td>0.065646</td>\n",
       "      <td>-0.059461</td>\n",
       "      <td>0.064552</td>\n",
       "    </tr>\n",
       "    <tr>\n",
       "      <th>neural</th>\n",
       "      <td>-0.015125</td>\n",
       "      <td>-0.016590</td>\n",
       "      <td>-0.026489</td>\n",
       "      <td>-0.046720</td>\n",
       "      <td>0.038668</td>\n",
       "      <td>-0.012035</td>\n",
       "      <td>-0.045278</td>\n",
       "      <td>0.046965</td>\n",
       "      <td>-0.011713</td>\n",
       "      <td>-0.034863</td>\n",
       "      <td>...</td>\n",
       "      <td>-0.040547</td>\n",
       "      <td>0.000738</td>\n",
       "      <td>-0.009267</td>\n",
       "      <td>0.047294</td>\n",
       "      <td>-0.046529</td>\n",
       "      <td>0.008307</td>\n",
       "      <td>0.020698</td>\n",
       "      <td>-0.015057</td>\n",
       "      <td>0.044367</td>\n",
       "      <td>0.008843</td>\n",
       "    </tr>\n",
       "    <tr>\n",
       "      <th>and</th>\n",
       "      <td>0.029279</td>\n",
       "      <td>0.033890</td>\n",
       "      <td>0.049657</td>\n",
       "      <td>-0.037406</td>\n",
       "      <td>-0.049706</td>\n",
       "      <td>-0.005566</td>\n",
       "      <td>0.040193</td>\n",
       "      <td>0.014699</td>\n",
       "      <td>0.038887</td>\n",
       "      <td>-0.029642</td>\n",
       "      <td>...</td>\n",
       "      <td>0.014195</td>\n",
       "      <td>-0.010852</td>\n",
       "      <td>0.018990</td>\n",
       "      <td>0.021544</td>\n",
       "      <td>-0.007178</td>\n",
       "      <td>-0.049954</td>\n",
       "      <td>-0.037952</td>\n",
       "      <td>0.034891</td>\n",
       "      <td>-0.005503</td>\n",
       "      <td>0.023733</td>\n",
       "    </tr>\n",
       "    <tr>\n",
       "      <th>as</th>\n",
       "      <td>-0.009610</td>\n",
       "      <td>0.026094</td>\n",
       "      <td>-0.016352</td>\n",
       "      <td>0.039663</td>\n",
       "      <td>0.004246</td>\n",
       "      <td>-0.007173</td>\n",
       "      <td>-0.008121</td>\n",
       "      <td>-0.004822</td>\n",
       "      <td>-0.048704</td>\n",
       "      <td>0.040349</td>\n",
       "      <td>...</td>\n",
       "      <td>-0.033030</td>\n",
       "      <td>0.026938</td>\n",
       "      <td>-0.046919</td>\n",
       "      <td>-0.038599</td>\n",
       "      <td>-0.023745</td>\n",
       "      <td>0.036191</td>\n",
       "      <td>-0.026407</td>\n",
       "      <td>-0.044691</td>\n",
       "      <td>-0.041753</td>\n",
       "      <td>-0.018579</td>\n",
       "    </tr>\n",
       "  </tbody>\n",
       "</table>\n",
       "<p>5 rows × 100 columns</p>\n",
       "</div>"
      ],
      "text/plain": [
       "                0         1         2         3         4         5   \\\n",
       "deep     -0.034130  0.024219  0.032866  0.053057 -0.015359  0.024081   \n",
       "networks -0.015954 -0.040530  0.016333  0.065731 -0.064257 -0.008575   \n",
       "neural   -0.015125 -0.016590 -0.026489 -0.046720  0.038668 -0.012035   \n",
       "and       0.029279  0.033890  0.049657 -0.037406 -0.049706 -0.005566   \n",
       "as       -0.009610  0.026094 -0.016352  0.039663  0.004246 -0.007173   \n",
       "\n",
       "                6         7         8         9   ...        90        91  \\\n",
       "deep     -0.027761  0.015272  0.029367 -0.007073  ... -0.040299 -0.061614   \n",
       "networks -0.043316  0.004140  0.001915 -0.045863  ... -0.028814  0.002317   \n",
       "neural   -0.045278  0.046965 -0.011713 -0.034863  ... -0.040547  0.000738   \n",
       "and       0.040193  0.014699  0.038887 -0.029642  ...  0.014195 -0.010852   \n",
       "as       -0.008121 -0.004822 -0.048704  0.040349  ... -0.033030  0.026938   \n",
       "\n",
       "                92        93        94        95        96        97  \\\n",
       "deep     -0.007193  0.054346 -0.007222 -0.039540  0.034759  0.029909   \n",
       "networks  0.060899 -0.007910 -0.025847  0.027496 -0.022442  0.065646   \n",
       "neural   -0.009267  0.047294 -0.046529  0.008307  0.020698 -0.015057   \n",
       "and       0.018990  0.021544 -0.007178 -0.049954 -0.037952  0.034891   \n",
       "as       -0.046919 -0.038599 -0.023745  0.036191 -0.026407 -0.044691   \n",
       "\n",
       "                98        99  \n",
       "deep     -0.034194  0.061596  \n",
       "networks -0.059461  0.064552  \n",
       "neural    0.044367  0.008843  \n",
       "and      -0.005503  0.023733  \n",
       "as       -0.041753 -0.018579  \n",
       "\n",
       "[5 rows x 100 columns]"
      ]
     },
     "execution_count": 7,
     "metadata": {},
     "output_type": "execute_result"
    }
   ],
   "source": [
    "weights = cbow.get_weights()[0]\n",
    "weights = weights[1:]\n",
    "print(weights.shape)\n",
    "\n",
    "pd.DataFrame(weights, index=list(id2word.values())[1:]).head()"
   ]
  },
  {
   "cell_type": "markdown",
   "metadata": {},
   "source": [
    "#### d. Output "
   ]
  },
  {
   "cell_type": "code",
   "execution_count": 8,
   "metadata": {
    "colab": {
     "base_uri": "https://localhost:8080/"
    },
    "id": "UFs2IAn_LAYS",
    "outputId": "87ae1249-6a80-484f-b4a2-4d5f20734db7"
   },
   "outputs": [
    {
     "name": "stdout",
     "output_type": "stream",
     "text": [
      "(74, 74)\n"
     ]
    },
    {
     "data": {
      "text/plain": [
       "{'deep': ['material', 'based', 'can', 'of', 'reinforcement']}"
      ]
     },
     "execution_count": 8,
     "metadata": {},
     "output_type": "execute_result"
    }
   ],
   "source": [
    "from sklearn.metrics.pairwise import euclidean_distances\n",
    "\n",
    "distance_matrix = euclidean_distances(weights)\n",
    "print(distance_matrix.shape)\n",
    "\n",
    "similar_words = {search_term: [id2word[idx] for idx in distance_matrix[word2id[search_term]-1].argsort()[1:6]+1] \n",
    "                   for search_term in ['deep']}\n",
    "\n",
    "similar_words"
   ]
  },
  {
   "cell_type": "code",
   "execution_count": null,
   "metadata": {},
   "outputs": [],
   "source": []
  }
 ],
 "metadata": {
  "colab": {
   "collapsed_sections": [],
   "provenance": []
  },
  "kernelspec": {
   "display_name": "Python 3",
   "language": "python",
   "name": "python3"
  },
  "language_info": {
   "codemirror_mode": {
    "name": "ipython",
    "version": 3
   },
   "file_extension": ".py",
   "mimetype": "text/x-python",
   "name": "python",
   "nbconvert_exporter": "python",
   "pygments_lexer": "ipython3",
   "version": "3.8.8"
  }
 },
 "nbformat": 4,
 "nbformat_minor": 1
}
