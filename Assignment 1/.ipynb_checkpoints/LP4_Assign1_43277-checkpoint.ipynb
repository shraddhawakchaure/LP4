{
 "cells": [
  {
   "cell_type": "markdown",
   "metadata": {
    "id": "y0kQAsW-3Ppa"
   },
   "source": [
    "## Assignment 1\n",
    "    1. Name: Shraddha Wakchaure\n",
    "    2. Batch: S-10\n",
    "    3. Roll No.: 43278\n",
    "    \n",
    "   ### Problem Statement :\n",
    "    Study of Deep learning Packages: Tensorflow, Keras, Theano and PyTorch. Document the distinct features and functionality of the packages."
   ]
  },
  {
   "cell_type": "code",
   "execution_count": 2,
   "metadata": {
    "id": "oecPSoNR3-yP"
   },
   "outputs": [],
   "source": [
    "import numpy as np"
   ]
  },
  {
   "cell_type": "markdown",
   "metadata": {
    "id": "SZ4PqakF32cQ"
   },
   "source": [
    "**1. Tensorflow**"
   ]
  },
  {
   "cell_type": "code",
   "execution_count": 3,
   "metadata": {
    "id": "6m8-7WTb3Mit"
   },
   "outputs": [],
   "source": [
    "import tensorflow as tf"
   ]
  },
  {
   "cell_type": "code",
   "execution_count": 4,
   "metadata": {
    "colab": {
     "base_uri": "https://localhost:8080/"
    },
    "id": "rDAP1sI64A_T",
    "outputId": "d7c1900f-e4c8-4636-c144-14fbe8683285"
   },
   "outputs": [
    {
     "name": "stdout",
     "output_type": "stream",
     "text": [
      "2.10.0\n"
     ]
    }
   ],
   "source": [
    "print(tf.__version__)"
   ]
  },
  {
   "cell_type": "markdown",
   "metadata": {
    "id": "6IrNy3Ek4Dtv"
   },
   "source": [
    "**2. Keras**"
   ]
  },
  {
   "cell_type": "code",
   "execution_count": 5,
   "metadata": {
    "colab": {
     "base_uri": "https://localhost:8080/"
    },
    "id": "oda3NOiV4GcJ",
    "outputId": "ffc60e3a-1a0b-4a54-9998-873ad2b5f257"
   },
   "outputs": [],
   "source": [
    "from keras import datasets\n",
    "# Load MNIST datasets from keras\n",
    "(train_images, train_labels), (test_images, test_labels) = datasets.mnist.load_data()"
   ]
  },
  {
   "cell_type": "code",
   "execution_count": 6,
   "metadata": {
    "colab": {
     "base_uri": "https://localhost:8080/"
    },
    "id": "FcugfdER4LP6",
    "outputId": "24d8e04c-aee6-446e-ac99-24de501f9706"
   },
   "outputs": [
    {
     "data": {
      "text/plain": [
       "(60000, 28, 28)"
      ]
     },
     "execution_count": 6,
     "metadata": {},
     "output_type": "execute_result"
    }
   ],
   "source": [
    "train_images.shape"
   ]
  },
  {
   "cell_type": "code",
   "execution_count": 7,
   "metadata": {
    "colab": {
     "base_uri": "https://localhost:8080/"
    },
    "id": "8cfuAeKo4OeX",
    "outputId": "6c0d9462-aa3a-4ba1-aaf5-e1191e16792d"
   },
   "outputs": [
    {
     "data": {
      "text/plain": [
       "(10000, 28, 28)"
      ]
     },
     "execution_count": 7,
     "metadata": {},
     "output_type": "execute_result"
    }
   ],
   "source": [
    "test_images.shape"
   ]
  },
  {
   "cell_type": "markdown",
   "metadata": {
    "id": "a8hDZ2mn4PRn"
   },
   "source": [
    "**3. Theano**"
   ]
  },
  {
   "cell_type": "code",
   "execution_count": 14,
   "metadata": {
    "colab": {
     "base_uri": "https://localhost:8080/"
    },
    "id": "_3g_Lsce4Q9O",
    "outputId": "c40852cb-86a4-4f47-c7e4-b003c3d746d0"
   },
   "outputs": [
    {
     "name": "stdout",
     "output_type": "stream",
     "text": [
      "Collecting package metadata (current_repodata.json): ...working... done\n",
      "Solving environment: ...working... done\n",
      "\n",
      "## Package Plan ##\n",
      "\n",
      "  environment location: D:\\anaconda\n",
      "\n",
      "  added / updated specs:\n",
      "    - theano\n",
      "\n",
      "\n",
      "The following packages will be downloaded:\n",
      "\n",
      "    package                    |            build\n",
      "    ---------------------------|-----------------\n",
      "    anaconda-2022.10           |          py310_0          13 KB\n",
      "    ca-certificates-2022.10.11 |       haa95532_0         125 KB\n",
      "    certifi-2022.9.24          |   py39haa95532_0         154 KB\n",
      "    libgpuarray-0.7.6          |       h2bbff1b_1         255 KB\n",
      "    libpython-2.1              |   py39haa95532_0         262 KB\n",
      "    m2w64-binutils-2.25.1      |                5        44.3 MB\n",
      "    m2w64-bzip2-1.0.6          |                6         100 KB\n",
      "    m2w64-crt-git-5.0.0.4636.2595836|                2         3.4 MB\n",
      "    m2w64-gcc-5.3.0            |                6        41.1 MB\n",
      "    m2w64-gcc-ada-5.3.0        |                6        33.5 MB\n",
      "    m2w64-gcc-fortran-5.3.0    |                6        10.3 MB\n",
      "    m2w64-gcc-libgfortran-5.3.0|                6         340 KB\n",
      "    m2w64-gcc-libs-5.3.0       |                7         518 KB\n",
      "    m2w64-gcc-libs-core-5.3.0  |                7         213 KB\n",
      "    m2w64-gcc-objc-5.3.0       |                6        15.1 MB\n",
      "    m2w64-gmp-6.1.0            |                2         689 KB\n",
      "    m2w64-headers-git-5.0.0.4636.c0ad18a|                2         5.6 MB\n",
      "    m2w64-isl-0.16.1           |                2         655 KB\n",
      "    m2w64-libiconv-1.14        |                6         1.5 MB\n",
      "    m2w64-libmangle-git-5.0.0.4509.2e5a9a2|                2          21 KB\n",
      "    m2w64-make-4.1.2351.a80a8b8|                2         116 KB\n",
      "    m2w64-mpc-1.0.3            |                3          70 KB\n",
      "    m2w64-mpfr-3.1.4           |                4         293 KB\n",
      "    m2w64-pkg-config-0.29.1    |                2         469 KB\n",
      "    m2w64-toolchain-5.3.0      |                7           2 KB\n",
      "    m2w64-tools-git-5.0.0.4592.90b8472|                2         314 KB\n",
      "    m2w64-windows-default-manifest-6.4|                3           3 KB\n",
      "    m2w64-winpthreads-git-5.0.0.4634.697f757|                2          45 KB\n",
      "    m2w64-zlib-1.2.8           |               10         197 KB\n",
      "    mako-1.2.3                 |   py39haa95532_0         142 KB\n",
      "    pygpu-0.7.6                |   py39h080aedc_1         468 KB\n",
      "    scipy-1.7.3                |   py39h7a0a035_2        13.9 MB\n",
      "    theano-1.0.5               |   py39haa95532_1         3.2 MB\n",
      "    ------------------------------------------------------------\n",
      "                                           Total:       177.3 MB\n",
      "\n",
      "The following NEW packages will be INSTALLED:\n",
      "\n",
      "  libgpuarray        pkgs/main/win-64::libgpuarray-0.7.6-h2bbff1b_1 None\n",
      "  libpython          pkgs/main/win-64::libpython-2.1-py39haa95532_0 None\n",
      "  m2w64-binutils     pkgs/msys2/win-64::m2w64-binutils-2.25.1-5 None\n",
      "  m2w64-bzip2        pkgs/msys2/win-64::m2w64-bzip2-1.0.6-6 None\n",
      "  m2w64-crt-git      pkgs/msys2/win-64::m2w64-crt-git-5.0.0.4636.2595836-2 None\n",
      "  m2w64-gcc          pkgs/msys2/win-64::m2w64-gcc-5.3.0-6 None\n",
      "  m2w64-gcc-ada      pkgs/msys2/win-64::m2w64-gcc-ada-5.3.0-6 None\n",
      "  m2w64-gcc-fortran  pkgs/msys2/win-64::m2w64-gcc-fortran-5.3.0-6 None\n",
      "  m2w64-gcc-libgfor~ pkgs/msys2/win-64::m2w64-gcc-libgfortran-5.3.0-6 None\n",
      "  m2w64-gcc-libs     pkgs/msys2/win-64::m2w64-gcc-libs-5.3.0-7 None\n",
      "  m2w64-gcc-libs-co~ pkgs/msys2/win-64::m2w64-gcc-libs-core-5.3.0-7 None\n",
      "  m2w64-gcc-objc     pkgs/msys2/win-64::m2w64-gcc-objc-5.3.0-6 None\n",
      "  m2w64-gmp          pkgs/msys2/win-64::m2w64-gmp-6.1.0-2 None\n",
      "  m2w64-headers-git  pkgs/msys2/win-64::m2w64-headers-git-5.0.0.4636.c0ad18a-2 None\n",
      "  m2w64-isl          pkgs/msys2/win-64::m2w64-isl-0.16.1-2 None\n",
      "  m2w64-libiconv     pkgs/msys2/win-64::m2w64-libiconv-1.14-6 None\n",
      "  m2w64-libmangle-g~ pkgs/msys2/win-64::m2w64-libmangle-git-5.0.0.4509.2e5a9a2-2 None\n",
      "  m2w64-make         pkgs/msys2/win-64::m2w64-make-4.1.2351.a80a8b8-2 None\n",
      "  m2w64-mpc          pkgs/msys2/win-64::m2w64-mpc-1.0.3-3 None\n",
      "  m2w64-mpfr         pkgs/msys2/win-64::m2w64-mpfr-3.1.4-4 None\n",
      "  m2w64-pkg-config   pkgs/msys2/win-64::m2w64-pkg-config-0.29.1-2 None\n",
      "  m2w64-toolchain    pkgs/msys2/win-64::m2w64-toolchain-5.3.0-7 None\n",
      "  m2w64-tools-git    pkgs/msys2/win-64::m2w64-tools-git-5.0.0.4592.90b8472-2 None\n",
      "  m2w64-windows-def~ pkgs/msys2/win-64::m2w64-windows-default-manifest-6.4-3 None\n",
      "  m2w64-winpthreads~ pkgs/msys2/win-64::m2w64-winpthreads-git-5.0.0.4634.697f757-2 None\n",
      "  m2w64-zlib         pkgs/msys2/win-64::m2w64-zlib-1.2.8-10 None\n",
      "  mako               pkgs/main/win-64::mako-1.2.3-py39haa95532_0 None\n",
      "  pygpu              pkgs/main/win-64::pygpu-0.7.6-py39h080aedc_1 None\n",
      "  theano             pkgs/main/win-64::theano-1.0.5-py39haa95532_1 None\n",
      "\n",
      "The following packages will be UPDATED:\n",
      "\n",
      "  ca-certificates                     2022.07.19-haa95532_0 --> 2022.10.11-haa95532_0 None\n",
      "  certifi                          2022.9.14-py39haa95532_0 --> 2022.9.24-py39haa95532_0 None\n",
      "\n",
      "The following packages will be DOWNGRADED:\n",
      "\n",
      "  anaconda                                   2022.10-py39_0 --> 2022.10-py310_0 None\n",
      "  scipy                                1.9.1-py39he11b74f_0 --> 1.7.3-py39h7a0a035_2 None\n",
      "\n",
      "\n",
      "\n",
      "Downloading and Extracting Packages\n",
      "\n",
      "m2w64-gcc-libgfortra | 340 KB    |            |   0% \n",
      "m2w64-gcc-libgfortra | 340 KB    | 4          |   5% \n",
      "m2w64-gcc-libgfortra | 340 KB    | ########## | 100% \n",
      "m2w64-gcc-libgfortra | 340 KB    | ########## | 100% \n",
      "\n",
      "m2w64-tools-git-5.0. | 314 KB    |            |   0% \n",
      "m2w64-tools-git-5.0. | 314 KB    | ########## | 100% \n",
      "m2w64-tools-git-5.0. | 314 KB    | ########## | 100% \n",
      "\n",
      "m2w64-gcc-libs-5.3.0 | 518 KB    |            |   0% \n",
      "m2w64-gcc-libs-5.3.0 | 518 KB    | ########## | 100% \n",
      "m2w64-gcc-libs-5.3.0 | 518 KB    | ########## | 100% \n",
      "\n",
      "mako-1.2.3           | 142 KB    |            |   0% \n",
      "mako-1.2.3           | 142 KB    | ########## | 100% \n",
      "mako-1.2.3           | 142 KB    | ########## | 100% \n",
      "\n",
      "ca-certificates-2022 | 125 KB    |            |   0% \n",
      "ca-certificates-2022 | 125 KB    | ########## | 100% \n",
      "ca-certificates-2022 | 125 KB    | ########## | 100% \n",
      "\n",
      "m2w64-gcc-libs-core- | 213 KB    |            |   0% \n",
      "m2w64-gcc-libs-core- | 213 KB    | ########## | 100% \n",
      "\n",
      "m2w64-binutils-2.25. | 44.3 MB   |            |   0% \n",
      "m2w64-binutils-2.25. | 44.3 MB   | 1          |   1% \n",
      "m2w64-binutils-2.25. | 44.3 MB   | 4          |   4% \n",
      "m2w64-binutils-2.25. | 44.3 MB   | 5          |   6% \n",
      "m2w64-binutils-2.25. | 44.3 MB   | 9          |  10% \n",
      "m2w64-binutils-2.25. | 44.3 MB   | #4         |  15% \n",
      "m2w64-binutils-2.25. | 44.3 MB   | #9         |  20% \n",
      "m2w64-binutils-2.25. | 44.3 MB   | ##3        |  24% \n",
      "m2w64-binutils-2.25. | 44.3 MB   | ##7        |  28% \n",
      "m2w64-binutils-2.25. | 44.3 MB   | ###1       |  32% \n",
      "m2w64-binutils-2.25. | 44.3 MB   | ###5       |  35% \n",
      "m2w64-binutils-2.25. | 44.3 MB   | ###8       |  39% \n",
      "m2w64-binutils-2.25. | 44.3 MB   | ####2      |  42% \n",
      "m2w64-binutils-2.25. | 44.3 MB   | ####5      |  45% \n",
      "m2w64-binutils-2.25. | 44.3 MB   | ####8      |  49% \n",
      "m2w64-binutils-2.25. | 44.3 MB   | #####1     |  52% \n",
      "m2w64-binutils-2.25. | 44.3 MB   | #####6     |  56% \n",
      "m2w64-binutils-2.25. | 44.3 MB   | #####9     |  60% \n",
      "m2w64-binutils-2.25. | 44.3 MB   | ######4    |  64% \n",
      "m2w64-binutils-2.25. | 44.3 MB   | ######7    |  68% \n",
      "m2w64-binutils-2.25. | 44.3 MB   | #######1   |  72% \n",
      "m2w64-binutils-2.25. | 44.3 MB   | #######5   |  76% \n",
      "m2w64-binutils-2.25. | 44.3 MB   | #######9   |  79% \n",
      "m2w64-binutils-2.25. | 44.3 MB   | ########2  |  82% \n",
      "m2w64-binutils-2.25. | 44.3 MB   | ########5  |  86% \n",
      "m2w64-binutils-2.25. | 44.3 MB   | ########9  |  89% \n",
      "m2w64-binutils-2.25. | 44.3 MB   | #########2 |  92% \n",
      "m2w64-binutils-2.25. | 44.3 MB   | #########5 |  96% \n",
      "m2w64-binutils-2.25. | 44.3 MB   | #########9 |  99% \n",
      "m2w64-binutils-2.25. | 44.3 MB   | ########## | 100% \n",
      "\n",
      "certifi-2022.9.24    | 154 KB    |            |   0% \n",
      "certifi-2022.9.24    | 154 KB    | ########## | 100% \n",
      "certifi-2022.9.24    | 154 KB    | ########## | 100% \n",
      "\n",
      "m2w64-libmangle-git- | 21 KB     |            |   0% \n",
      "m2w64-libmangle-git- | 21 KB     | ########## | 100% \n",
      "\n",
      "m2w64-headers-git-5. | 5.6 MB    |            |   0% \n",
      "m2w64-headers-git-5. | 5.6 MB    | ##2        |  22% \n",
      "m2w64-headers-git-5. | 5.6 MB    | #####2     |  53% \n",
      "m2w64-headers-git-5. | 5.6 MB    | ########5  |  86% \n",
      "m2w64-headers-git-5. | 5.6 MB    | ########## | 100% \n",
      "\n",
      "m2w64-gmp-6.1.0      | 689 KB    |            |   0% \n",
      "m2w64-gmp-6.1.0      | 689 KB    | ########## | 100% \n",
      "m2w64-gmp-6.1.0      | 689 KB    | ########## | 100% \n",
      "\n",
      "m2w64-make-4.1.2351. | 116 KB    |            |   0% \n",
      "m2w64-make-4.1.2351. | 116 KB    | ########## | 100% \n",
      "\n",
      "m2w64-windows-defaul | 3 KB      |            |   0% \n",
      "m2w64-windows-defaul | 3 KB      | ########## | 100% \n",
      "\n",
      "m2w64-zlib-1.2.8     | 197 KB    |            |   0% \n",
      "m2w64-zlib-1.2.8     | 197 KB    | ########## | 100% \n",
      "\n",
      "m2w64-gcc-5.3.0      | 41.1 MB   |            |   0% \n",
      "m2w64-gcc-5.3.0      | 41.1 MB   | 2          |   3% \n",
      "m2w64-gcc-5.3.0      | 41.1 MB   | 9          |   9% \n",
      "m2w64-gcc-5.3.0      | 41.1 MB   | #4         |  14% \n",
      "m2w64-gcc-5.3.0      | 41.1 MB   | #8         |  19% \n",
      "m2w64-gcc-5.3.0      | 41.1 MB   | ##3        |  23% \n",
      "m2w64-gcc-5.3.0      | 41.1 MB   | ##7        |  27% \n",
      "m2w64-gcc-5.3.0      | 41.1 MB   | ###1       |  31% \n",
      "m2w64-gcc-5.3.0      | 41.1 MB   | ###4       |  35% \n",
      "m2w64-gcc-5.3.0      | 41.1 MB   | ###8       |  38% \n",
      "m2w64-gcc-5.3.0      | 41.1 MB   | ####2      |  42% \n",
      "m2w64-gcc-5.3.0      | 41.1 MB   | ####5      |  46% \n",
      "m2w64-gcc-5.3.0      | 41.1 MB   | ####9      |  49% \n",
      "m2w64-gcc-5.3.0      | 41.1 MB   | #####2     |  53% \n",
      "m2w64-gcc-5.3.0      | 41.1 MB   | #####5     |  56% \n",
      "m2w64-gcc-5.3.0      | 41.1 MB   | ######     |  61% \n",
      "m2w64-gcc-5.3.0      | 41.1 MB   | ######5    |  66% \n",
      "m2w64-gcc-5.3.0      | 41.1 MB   | #######    |  70% \n",
      "m2w64-gcc-5.3.0      | 41.1 MB   | #######4   |  74% \n",
      "m2w64-gcc-5.3.0      | 41.1 MB   | #######8   |  78% \n",
      "m2w64-gcc-5.3.0      | 41.1 MB   | ########2  |  83% \n",
      "m2w64-gcc-5.3.0      | 41.1 MB   | ########6  |  87% \n",
      "m2w64-gcc-5.3.0      | 41.1 MB   | #########1 |  92% \n",
      "m2w64-gcc-5.3.0      | 41.1 MB   | #########5 |  95% \n",
      "m2w64-gcc-5.3.0      | 41.1 MB   | #########8 |  99% \n",
      "m2w64-gcc-5.3.0      | 41.1 MB   | ########## | 100% \n",
      "\n",
      "theano-1.0.5         | 3.2 MB    |            |   0% \n",
      "theano-1.0.5         | 3.2 MB    | ##1        |  21% \n",
      "theano-1.0.5         | 3.2 MB    | #####3     |  53% \n",
      "theano-1.0.5         | 3.2 MB    | #########1 |  92% \n",
      "theano-1.0.5         | 3.2 MB    | ########## | 100% \n",
      "\n",
      "anaconda-2022.10     | 13 KB     |            |   0% \n",
      "anaconda-2022.10     | 13 KB     | ########## | 100% \n",
      "\n",
      "m2w64-crt-git-5.0.0. | 3.4 MB    |            |   0% \n",
      "m2w64-crt-git-5.0.0. | 3.4 MB    | ##7        |  28% \n",
      "m2w64-crt-git-5.0.0. | 3.4 MB    | ######9    |  70% \n",
      "m2w64-crt-git-5.0.0. | 3.4 MB    | ########## | 100% \n",
      "\n",
      "m2w64-gcc-ada-5.3.0  | 33.5 MB   |            |   0% \n",
      "m2w64-gcc-ada-5.3.0  | 33.5 MB   | 3          |   3% \n",
      "m2w64-gcc-ada-5.3.0  | 33.5 MB   | 7          |   8% \n",
      "m2w64-gcc-ada-5.3.0  | 33.5 MB   | #3         |  13% \n",
      "m2w64-gcc-ada-5.3.0  | 33.5 MB   | ##         |  20% \n",
      "m2w64-gcc-ada-5.3.0  | 33.5 MB   | ##5        |  26% \n",
      "m2w64-gcc-ada-5.3.0  | 33.5 MB   | ###3       |  33% \n",
      "m2w64-gcc-ada-5.3.0  | 33.5 MB   | ###8       |  39% \n",
      "m2w64-gcc-ada-5.3.0  | 33.5 MB   | ####4      |  45% \n",
      "m2w64-gcc-ada-5.3.0  | 33.5 MB   | #####1     |  52% \n",
      "m2w64-gcc-ada-5.3.0  | 33.5 MB   | #####8     |  58% \n",
      "m2w64-gcc-ada-5.3.0  | 33.5 MB   | ######3    |  64% \n",
      "m2w64-gcc-ada-5.3.0  | 33.5 MB   | ######8    |  69% \n",
      "m2w64-gcc-ada-5.3.0  | 33.5 MB   | #######3   |  74% \n",
      "m2w64-gcc-ada-5.3.0  | 33.5 MB   | #######8   |  78% \n",
      "m2w64-gcc-ada-5.3.0  | 33.5 MB   | ########2  |  83% \n",
      "m2w64-gcc-ada-5.3.0  | 33.5 MB   | ########6  |  87% \n",
      "m2w64-gcc-ada-5.3.0  | 33.5 MB   | #########1 |  91% \n",
      "m2w64-gcc-ada-5.3.0  | 33.5 MB   | #########6 |  97% \n",
      "m2w64-gcc-ada-5.3.0  | 33.5 MB   | ########## | 100% \n",
      "\n",
      "m2w64-pkg-config-0.2 | 469 KB    |            |   0% \n",
      "m2w64-pkg-config-0.2 | 469 KB    | ########## | 100% \n",
      "m2w64-pkg-config-0.2 | 469 KB    | ########## | 100% \n",
      "\n",
      "m2w64-gcc-fortran-5. | 10.3 MB   |            |   0% \n",
      "m2w64-gcc-fortran-5. | 10.3 MB   | #2         |  13% \n",
      "m2w64-gcc-fortran-5. | 10.3 MB   | ##7        |  27% \n",
      "m2w64-gcc-fortran-5. | 10.3 MB   | ####6      |  47% \n",
      "m2w64-gcc-fortran-5. | 10.3 MB   | ######7    |  67% \n",
      "m2w64-gcc-fortran-5. | 10.3 MB   | ########4  |  85% \n",
      "m2w64-gcc-fortran-5. | 10.3 MB   | ########## | 100% \n",
      "\n",
      "m2w64-mpfr-3.1.4     | 293 KB    |            |   0% \n",
      "m2w64-mpfr-3.1.4     | 293 KB    | ########## | 100% \n",
      "m2w64-mpfr-3.1.4     | 293 KB    | ########## | 100% \n",
      "\n",
      "pygpu-0.7.6          | 468 KB    |            |   0% \n",
      "pygpu-0.7.6          | 468 KB    | ########## | 100% \n",
      "pygpu-0.7.6          | 468 KB    | ########## | 100% \n",
      "\n",
      "scipy-1.7.3          | 13.9 MB   |            |   0% \n",
      "scipy-1.7.3          | 13.9 MB   | #1         |  12% \n",
      "scipy-1.7.3          | 13.9 MB   | ##3        |  24% \n",
      "scipy-1.7.3          | 13.9 MB   | ####1      |  42% \n",
      "scipy-1.7.3          | 13.9 MB   | #####7     |  57% \n",
      "scipy-1.7.3          | 13.9 MB   | #######    |  70% \n",
      "scipy-1.7.3          | 13.9 MB   | ########2  |  82% \n",
      "scipy-1.7.3          | 13.9 MB   | #########4 |  94% \n",
      "scipy-1.7.3          | 13.9 MB   | ########## | 100% \n",
      "\n",
      "m2w64-isl-0.16.1     | 655 KB    |            |   0% \n",
      "m2w64-isl-0.16.1     | 655 KB    | ########## | 100% \n",
      "m2w64-isl-0.16.1     | 655 KB    | ########## | 100% \n",
      "\n",
      "m2w64-libiconv-1.14  | 1.5 MB    |            |   0% \n",
      "m2w64-libiconv-1.14  | 1.5 MB    | #####5     |  55% \n",
      "m2w64-libiconv-1.14  | 1.5 MB    | ########## | 100% \n",
      "\n",
      "libgpuarray-0.7.6    | 255 KB    |            |   0% \n",
      "libgpuarray-0.7.6    | 255 KB    | ########## | 100% \n",
      "libgpuarray-0.7.6    | 255 KB    | ########## | 100% \n",
      "\n",
      "m2w64-bzip2-1.0.6    | 100 KB    |            |   0% \n",
      "m2w64-bzip2-1.0.6    | 100 KB    | ########## | 100% \n",
      "\n",
      "libpython-2.1        | 262 KB    |            |   0% \n",
      "libpython-2.1        | 262 KB    | ########## | 100% \n",
      "libpython-2.1        | 262 KB    | ########## | 100% \n",
      "\n",
      "m2w64-winpthreads-gi | 45 KB     |            |   0% \n",
      "m2w64-winpthreads-gi | 45 KB     | ########## | 100% \n",
      "\n",
      "m2w64-toolchain-5.3. | 2 KB      |            |   0% \n",
      "m2w64-toolchain-5.3. | 2 KB      | ########## | 100% \n",
      "\n",
      "m2w64-gcc-objc-5.3.0 | 15.1 MB   |            |   0% \n",
      "m2w64-gcc-objc-5.3.0 | 15.1 MB   | 5          |   6% \n",
      "m2w64-gcc-objc-5.3.0 | 15.1 MB   | #6         |  17% \n",
      "m2w64-gcc-objc-5.3.0 | 15.1 MB   | ##8        |  28% \n",
      "m2w64-gcc-objc-5.3.0 | 15.1 MB   | ####3      |  43% \n",
      "m2w64-gcc-objc-5.3.0 | 15.1 MB   | #####5     |  55% \n",
      "m2w64-gcc-objc-5.3.0 | 15.1 MB   | ######7    |  67% \n",
      "m2w64-gcc-objc-5.3.0 | 15.1 MB   | #######8   |  79% \n",
      "m2w64-gcc-objc-5.3.0 | 15.1 MB   | #########1 |  92% \n",
      "m2w64-gcc-objc-5.3.0 | 15.1 MB   | ########## | 100% \n",
      "\n",
      "m2w64-mpc-1.0.3      | 70 KB     |            |   0% \n",
      "m2w64-mpc-1.0.3      | 70 KB     | ########## | 100% \n",
      "Preparing transaction: ...working... done\n",
      "Verifying transaction: ...working... done\n",
      "Executing transaction: ...working... done\n",
      "Retrieving notices: ...working... done\n",
      "\n",
      "Note: you may need to restart the kernel to use updated packages.\n"
     ]
    }
   ],
   "source": [
    "conda install Theano"
   ]
  },
  {
   "cell_type": "code",
   "execution_count": 8,
   "metadata": {
    "id": "HYJwni9i4TlV"
   },
   "outputs": [],
   "source": [
    "import theano.tensor as T\n",
    "from theano import function"
   ]
  },
  {
   "cell_type": "code",
   "execution_count": 10,
   "metadata": {
    "id": "tPZzuHjF4X9L"
   },
   "outputs": [],
   "source": [
    "# Declaring 2 variables\n",
    "x = T.dscalar('x')\n",
    "y = T.dscalar('y')"
   ]
  },
  {
   "cell_type": "code",
   "execution_count": 11,
   "metadata": {
    "id": "On5RWBZ34ZlX"
   },
   "outputs": [],
   "source": [
    "# Summing up the 2 numbers\n",
    "z = x + y"
   ]
  },
  {
   "cell_type": "code",
   "execution_count": 12,
   "metadata": {
    "id": "NFE1tSdW4Z1b"
   },
   "outputs": [],
   "source": [
    "# Converting it to a callable object so that it takes matrix as parameters\n",
    "f = function([x, y], z)"
   ]
  },
  {
   "cell_type": "code",
   "execution_count": 13,
   "metadata": {
    "colab": {
     "base_uri": "https://localhost:8080/"
    },
    "id": "y4riSHJq4a9V",
    "outputId": "282c297f-a3b1-4500-e213-3fcb86c8f641"
   },
   "outputs": [
    {
     "data": {
      "text/plain": [
       "array(12.)"
      ]
     },
     "execution_count": 13,
     "metadata": {},
     "output_type": "execute_result"
    }
   ],
   "source": [
    "f(5, 7)"
   ]
  },
  {
   "cell_type": "markdown",
   "metadata": {
    "id": "H9_kUJNe4dlS"
   },
   "source": [
    "**4. PyTorch**"
   ]
  },
  {
   "cell_type": "code",
   "execution_count": 14,
   "metadata": {
    "colab": {
     "base_uri": "https://localhost:8080/"
    },
    "id": "IsiiMMbN4g7I",
    "outputId": "a32ecfcc-a1c5-4a48-a03b-c40c6525d88a"
   },
   "outputs": [
    {
     "name": "stdout",
     "output_type": "stream",
     "text": [
      "Looking in indexes: https://pypi.org/simple, https://download.pytorch.org/whl/cu115\n",
      "Requirement already satisfied: torch in d:\\anaconda\\lib\\site-packages (1.13.0)\n",
      "Requirement already satisfied: torchvision in d:\\anaconda\\lib\\site-packages (0.14.0)\n",
      "Requirement already satisfied: torchaudio in d:\\anaconda\\lib\\site-packages (0.13.0)\n",
      "Requirement already satisfied: typing_extensions in d:\\anaconda\\lib\\site-packages (from torch) (4.3.0)\n",
      "Requirement already satisfied: numpy in d:\\anaconda\\lib\\site-packages (from torchvision) (1.21.5)\n",
      "Requirement already satisfied: requests in d:\\anaconda\\lib\\site-packages (from torchvision) (2.28.1)\n",
      "Requirement already satisfied: pillow!=8.3.*,>=5.3.0 in d:\\anaconda\\lib\\site-packages (from torchvision) (9.2.0)\n",
      "Requirement already satisfied: idna<4,>=2.5 in d:\\anaconda\\lib\\site-packages (from requests->torchvision) (3.3)\n",
      "Requirement already satisfied: urllib3<1.27,>=1.21.1 in d:\\anaconda\\lib\\site-packages (from requests->torchvision) (1.26.11)\n",
      "Requirement already satisfied: certifi>=2017.4.17 in d:\\anaconda\\lib\\site-packages (from requests->torchvision) (2022.9.24)\n",
      "Requirement already satisfied: charset-normalizer<3,>=2 in d:\\anaconda\\lib\\site-packages (from requests->torchvision) (2.0.4)\n"
     ]
    }
   ],
   "source": [
    "!pip3 install torch torchvision torchaudio --extra-index-url https://download.pytorch.org/whl/cu115"
   ]
  },
  {
   "cell_type": "code",
   "execution_count": 15,
   "metadata": {
    "id": "cju81-Qq4mXs"
   },
   "outputs": [],
   "source": [
    "import torch\n",
    "import torch.nn as nn"
   ]
  },
  {
   "cell_type": "code",
   "execution_count": 16,
   "metadata": {
    "colab": {
     "base_uri": "https://localhost:8080/"
    },
    "id": "v8Pa1fuw4o5z",
    "outputId": "3493f5e4-2780-4a88-e54a-e9215a0ab46e"
   },
   "outputs": [
    {
     "name": "stdout",
     "output_type": "stream",
     "text": [
      "1.13.0\n"
     ]
    }
   ],
   "source": [
    "print(torch.__version__)"
   ]
  },
  {
   "cell_type": "code",
   "execution_count": 17,
   "metadata": {
    "colab": {
     "base_uri": "https://localhost:8080/"
    },
    "id": "qCfnunlg4pKW",
    "outputId": "1c942374-dec0-4088-aa80-9da85c042415"
   },
   "outputs": [
    {
     "data": {
      "text/plain": [
       "False"
      ]
     },
     "execution_count": 17,
     "metadata": {},
     "output_type": "execute_result"
    }
   ],
   "source": [
    "torch.cuda.is_available()"
   ]
  },
  {
   "cell_type": "code",
   "execution_count": null,
   "metadata": {},
   "outputs": [],
   "source": []
  }
 ],
 "metadata": {
  "colab": {
   "collapsed_sections": [],
   "provenance": []
  },
  "kernelspec": {
   "display_name": "Python 3",
   "language": "python",
   "name": "python3"
  },
  "language_info": {
   "codemirror_mode": {
    "name": "ipython",
    "version": 3
   },
   "file_extension": ".py",
   "mimetype": "text/x-python",
   "name": "python",
   "nbconvert_exporter": "python",
   "pygments_lexer": "ipython3",
   "version": "3.8.8"
  }
 },
 "nbformat": 4,
 "nbformat_minor": 1
}
