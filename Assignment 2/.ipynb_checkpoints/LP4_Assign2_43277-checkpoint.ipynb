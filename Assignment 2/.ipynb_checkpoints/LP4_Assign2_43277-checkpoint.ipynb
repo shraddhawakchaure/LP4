{
 "cells": [
  {
   "cell_type": "markdown",
   "metadata": {
    "id": "tPIKfVcI7cXn"
   },
   "source": [
    "## Assignment 2\n",
    "    1. Name: Shraddha Wakchaure\n",
    "    2. Batch: S-10\n",
    "    3. Roll No.: 43278\n",
    "    \n",
    "   ### Problem Statement :\n",
    "    Implementing Feedforward neural networks with Keras and TensorFlow"
   ]
  },
  {
   "cell_type": "markdown",
   "metadata": {},
   "source": [
    "#### a. Import necessary packages"
   ]
  },
  {
   "cell_type": "code",
   "execution_count": 8,
   "metadata": {
    "id": "hcpVc-38-OFf"
   },
   "outputs": [],
   "source": [
    "from sklearn.preprocessing import LabelBinarizer\n",
    "from sklearn.metrics import classification_report\n",
    "from tensorflow.keras.models import Sequential\n",
    "from tensorflow.keras.layers import Dense\n",
    "from tensorflow.keras.optimizers import SGD\n",
    "from tensorflow.keras.datasets import mnist\n",
    "from tensorflow.keras import backend as K\n",
    "import matplotlib.pyplot as plt\n",
    "import numpy as np"
   ]
  },
  {
   "cell_type": "markdown",
   "metadata": {},
   "source": [
    "#### b. Load the training and testing data (MNIST/CIFAR10)\n",
    "Grabbing the mnist dataset"
   ]
  },
  {
   "cell_type": "code",
   "execution_count": 10,
   "metadata": {
    "id": "LUZLOYG8-Yz2"
   },
   "outputs": [],
   "source": [
    "((X_train, Y_train), (X_test, Y_test)) = mnist.load_data()\n",
    "X_train = X_train.reshape((X_train.shape[0], 28 * 28 * 1))\n",
    "X_test = X_test.reshape((X_test.shape[0], 28 * 28 * 1))\n",
    "X_train = X_train.astype(\"float32\") / 255.0\n",
    "X_test = X_test.astype(\"float32\") / 255.0"
   ]
  },
  {
   "cell_type": "code",
   "execution_count": 11,
   "metadata": {
    "id": "rGDSwm8e-i44"
   },
   "outputs": [],
   "source": [
    "lb = LabelBinarizer()\n",
    "Y_train = lb.fit_transform(Y_train)\n",
    "Y_test = lb.transform(Y_test)"
   ]
  },
  {
   "cell_type": "markdown",
   "metadata": {},
   "source": [
    "#### c. Define the network architecture using Keras\n",
    "Building the model"
   ]
  },
  {
   "cell_type": "code",
   "execution_count": 12,
   "metadata": {
    "id": "lxBbB-yA-s_g"
   },
   "outputs": [],
   "source": [
    "model = Sequential()\n",
    "model.add(Dense(128, input_shape=(784,), activation=\"sigmoid\"))\n",
    "model.add(Dense(64, activation=\"sigmoid\"))\n",
    "model.add(Dense(10, activation=\"softmax\"))"
   ]
  },
  {
   "cell_type": "markdown",
   "metadata": {},
   "source": [
    "#### d. Train the model using SGD"
   ]
  },
  {
   "cell_type": "code",
   "execution_count": 13,
   "metadata": {
    "colab": {
     "base_uri": "https://localhost:8080/"
    },
    "id": "xKc03Mvz-wrz",
    "outputId": "b0544424-d139-48f9-c1bc-1f6f5d659645",
    "scrolled": true
   },
   "outputs": [
    {
     "name": "stdout",
     "output_type": "stream",
     "text": [
      "Epoch 1/10\n",
      "469/469 [==============================] - 2s 3ms/step - loss: 2.3089 - accuracy: 0.1916 - val_loss: 2.2612 - val_accuracy: 0.2154\n",
      "Epoch 2/10\n",
      "469/469 [==============================] - 1s 3ms/step - loss: 2.2385 - accuracy: 0.3252 - val_loss: 2.2115 - val_accuracy: 0.4688\n",
      "Epoch 3/10\n",
      "469/469 [==============================] - 1s 2ms/step - loss: 2.1824 - accuracy: 0.4775 - val_loss: 2.1447 - val_accuracy: 0.5425\n",
      "Epoch 4/10\n",
      "469/469 [==============================] - 1s 2ms/step - loss: 2.1038 - accuracy: 0.5598 - val_loss: 2.0488 - val_accuracy: 0.6049\n",
      "Epoch 5/10\n",
      "469/469 [==============================] - 1s 2ms/step - loss: 1.9901 - accuracy: 0.6038 - val_loss: 1.9119 - val_accuracy: 0.6428\n",
      "Epoch 6/10\n",
      "469/469 [==============================] - 1s 2ms/step - loss: 1.8340 - accuracy: 0.6388 - val_loss: 1.7330 - val_accuracy: 0.6669\n",
      "Epoch 7/10\n",
      "469/469 [==============================] - 1s 2ms/step - loss: 1.6453 - accuracy: 0.6667 - val_loss: 1.5348 - val_accuracy: 0.6960\n",
      "Epoch 8/10\n",
      "469/469 [==============================] - 1s 2ms/step - loss: 1.4527 - accuracy: 0.6972 - val_loss: 1.3482 - val_accuracy: 0.7264\n",
      "Epoch 9/10\n",
      "469/469 [==============================] - 1s 2ms/step - loss: 1.2810 - accuracy: 0.7275 - val_loss: 1.1908 - val_accuracy: 0.7463\n",
      "Epoch 10/10\n",
      "469/469 [==============================] - 1s 2ms/step - loss: 1.1398 - accuracy: 0.7501 - val_loss: 1.0637 - val_accuracy: 0.7682\n"
     ]
    }
   ],
   "source": [
    "sgd = SGD(0.01)\n",
    "epochs=10\n",
    "model.compile(loss=\"categorical_crossentropy\", optimizer=sgd,metrics=[\"accuracy\"])\n",
    "H = model.fit(X_train, Y_train, validation_data=(X_test, Y_test),epochs=epochs, batch_size=128)"
   ]
  },
  {
   "cell_type": "markdown",
   "metadata": {},
   "source": [
    "#### e. Evaluate the network\n",
    "Making the predictions"
   ]
  },
  {
   "cell_type": "code",
   "execution_count": 6,
   "metadata": {
    "colab": {
     "base_uri": "https://localhost:8080/"
    },
    "id": "Mhq0Upb3-8O3",
    "outputId": "eba335a5-13da-4ebd-dafa-1c137c15ff89"
   },
   "outputs": [
    {
     "name": "stdout",
     "output_type": "stream",
     "text": [
      "              precision    recall  f1-score   support\n",
      "\n",
      "           0       0.79      0.96      0.87       980\n",
      "           1       0.78      0.98      0.87      1135\n",
      "           2       0.83      0.74      0.79      1032\n",
      "           3       0.64      0.82      0.72      1010\n",
      "           4       0.66      0.79      0.72       982\n",
      "           5       0.84      0.45      0.59       892\n",
      "           6       0.82      0.87      0.85       958\n",
      "           7       0.80      0.86      0.83      1028\n",
      "           8       0.84      0.55      0.67       974\n",
      "           9       0.68      0.52      0.59      1009\n",
      "\n",
      "    accuracy                           0.76     10000\n",
      "   macro avg       0.77      0.75      0.75     10000\n",
      "weighted avg       0.77      0.76      0.75     10000\n",
      "\n"
     ]
    }
   ],
   "source": [
    "predictions = model.predict(X_test, batch_size=128)\n",
    "print(classification_report(Y_test.argmax(axis=1),predictions.argmax(axis=1),target_names=[str(x) for x in lb.classes_]))"
   ]
  },
  {
   "cell_type": "markdown",
   "metadata": {},
   "source": [
    "#### f. Plot the training loss and accuracy"
   ]
  },
  {
   "cell_type": "code",
   "execution_count": 17,
   "metadata": {
    "colab": {
     "base_uri": "https://localhost:8080/",
     "height": 316
    },
    "id": "DN7oqCII_Crw",
    "outputId": "6946110c-590d-4825-dabe-e030fefa519c"
   },
   "outputs": [
    {
     "data": {
      "text/plain": [
       "[]"
      ]
     },
     "execution_count": 17,
     "metadata": {},
     "output_type": "execute_result"
    },
    {
     "data": {
      "image/png": "[encoded data removed]",
      "text/plain": [
       "<Figure size 432x288 with 1 Axes>"
      ]
     },
     "metadata": {},
     "output_type": "display_data"
    }
   ],
   "source": [
    "plt.style.use(\"ggplot\")\n",
    "plt.figure()\n",
    "plt.plot(np.arange(0, epochs), H.history[\"loss\"], label=\"train_loss\")\n",
    "plt.plot(np.arange(0, epochs), H.history[\"val_loss\"], label=\"val_loss\")\n",
    "plt.plot(np.arange(0, epochs), H.history[\"accuracy\"], label=\"train_acc\")\n",
    "plt.plot(np.arange(0, epochs), H.history[\"val_accuracy\"], label=\"val_acc\")\n",
    "plt.title(\"Training Loss and Accuracy\")\n",
    "plt.xlabel(\"Epoch #\")\n",
    "plt.ylabel(\"Loss/Accuracy\")\n",
    "plt.legend()\n",
    "plt.plot()"
   ]
  },
  {
   "cell_type": "code",
   "execution_count": null,
   "metadata": {
    "id": "dsgxIAZF9na1"
   },
   "outputs": [],
   "source": []
  }
 ],
 "metadata": {
  "colab": {
   "collapsed_sections": [],
   "provenance": []
  },
  "kernelspec": {
   "display_name": "Python 3",
   "language": "python",
   "name": "python3"
  },
  "language_info": {
   "codemirror_mode": {
    "name": "ipython",
    "version": 3
   },
   "file_extension": ".py",
   "mimetype": "text/x-python",
   "name": "python",
   "nbconvert_exporter": "python",
   "pygments_lexer": "ipython3",
   "version": "3.8.8"
  }
 },
 "nbformat": 4,
 "nbformat_minor": 1
}
